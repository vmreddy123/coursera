{
  "metadata": {
    "kernelspec": {
      "name": "python",
      "display_name": "Pyolite",
      "language": "python"
    },
    "language_info": {
      "codemirror_mode": {
        "name": "python",
        "version": 3
      },
      "file_extension": ".py",
      "mimetype": "text/x-python",
      "name": "python",
      "nbconvert_exporter": "python",
      "pygments_lexer": "ipython3",
      "version": "3.8"
    }
  },
  "nbformat_minor": 4,
  "nbformat": 4,
  "cells": [
    {
      "cell_type": "markdown",
      "source": "<center>\n    <img src=\"https://cf-courses-data.s3.us.cloud-object-storage.appdomain.cloud/IBMDeveloperSkillsNetwork-DS0105EN-SkillsNetwork/labs/Module2/images/SN_web_lightmode.png\" width=\"300\" alt=\"cognitiveclass.ai logo\"  />\n</center>\n",
      "metadata": {}
    },
    {
      "cell_type": "markdown",
      "source": "#### Add your code below following the instructions given in the course\n",
      "metadata": {}
    },
    {
      "cell_type": "markdown",
      "source": "# My Jupyter Notebook on IBM Watson Studio",
      "metadata": {}
    },
    {
      "cell_type": "markdown",
      "source": "<b>MAHESH REEDDY VADISENA</b><br>\nI'm learner",
      "metadata": {}
    },
    {
      "cell_type": "markdown",
      "source": "_I am interested in data science because , I'm much interest to play with data_",
      "metadata": {}
    },
    {
      "cell_type": "markdown",
      "source": "<h3> I'm going to perform add operation in next cell.</h3>",
      "metadata": {}
    },
    {
      "cell_type": "code",
      "source": "2+3",
      "metadata": {
        "trusted": true
      },
      "execution_count": 2,
      "outputs": [
        {
          "execution_count": 2,
          "output_type": "execute_result",
          "data": {
            "text/plain": "5"
          },
          "metadata": {}
        }
      ]
    },
    {
      "cell_type": "markdown",
      "source": "- ram\n- raheem\n- akbar",
      "metadata": {}
    },
    {
      "cell_type": "markdown",
      "source": "1. ram\n2. rahim\n3. akbar",
      "metadata": {}
    },
    {
      "cell_type": "markdown",
      "source": "__[IBM.com](https://www.ibm.com/in-en)__",
      "metadata": {}
    }
  ]
}